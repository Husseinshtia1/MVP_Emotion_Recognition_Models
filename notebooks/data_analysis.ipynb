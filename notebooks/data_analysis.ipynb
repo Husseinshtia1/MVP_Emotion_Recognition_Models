
{
 "cells": [
  {
   "cell_type": "code",
   "execution_count": 1,
   "metadata": {},
   "outputs": [],
   "source": [
    "import pandas as pd\n",
    "data = pd.DataFrame({'emotion': ['happy', 'sad', 'neutral'], 'count': [50, 30, 20]})\n",
    "data.plot(kind='bar', x='emotion', y='count', title='Emotion Distribution')"
   ]
  }
 ],
 "metadata": {},
 "nbformat": 4,
 "nbformat_minor": 2
}
