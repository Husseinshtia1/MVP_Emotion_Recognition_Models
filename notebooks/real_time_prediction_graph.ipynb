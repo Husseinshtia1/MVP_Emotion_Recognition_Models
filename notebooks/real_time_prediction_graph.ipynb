
{
 "cells": [
  {
   "cell_type": "code",
   "execution_count": 1,
   "metadata": {},
   "outputs": [],
   "source": [
    "import matplotlib.pyplot as plt\n",
    "import random\n",
    "from IPython.display import clear_output\n",
    "\n",
    "data = []\n",
    "for i in range(10):\n",
    "    clear_output(wait=True)\n",
    "    data.append(random.randint(0, 100))\n",
    "    plt.plot(data)\n",
    "    plt.pause(1)"
   ]
  }
 ],
 "metadata": {},
 "nbformat": 4,
 "nbformat_minor": 2
}
